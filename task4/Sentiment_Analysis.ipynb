{
 "cells": [
  {
   "cell_type": "code",
   "execution_count": 1,
   "id": "2b54cd88",
   "metadata": {},
   "outputs": [
    {
     "name": "stdout",
     "output_type": "stream",
     "text": [
      "Requirement already satisfied: pyspark in /Users/kowshikmosalakanti/opt/anaconda3/lib/python3.9/site-packages (3.5.3)\n",
      "Requirement already satisfied: py4j==0.10.9.7 in /Users/kowshikmosalakanti/opt/anaconda3/lib/python3.9/site-packages (from pyspark) (0.10.9.7)\n",
      "Note: you may need to restart the kernel to use updated packages.\n"
     ]
    }
   ],
   "source": [
    "pip install pyspark"
   ]
  },
  {
   "cell_type": "code",
   "execution_count": 2,
   "id": "de2ddfd2",
   "metadata": {},
   "outputs": [],
   "source": [
    "from pyspark.sql import SparkSession\n",
    "from pyspark.ml.feature import Tokenizer, StopWordsRemover, CountVectorizer, IDF\n",
    "from pyspark.ml.classification import LogisticRegression\n",
    "from pyspark.ml.evaluation import MulticlassClassificationEvaluator\n",
    "from pyspark.ml.feature import StringIndexer\n",
    "from pyspark.sql.functions import avg\n",
    "from pyspark.ml.feature import Tokenizer, StopWordsRemover, CountVectorizer, IDF"
   ]
  },
  {
   "cell_type": "code",
   "execution_count": 3,
   "id": "2cfbde79",
   "metadata": {},
   "outputs": [
    {
     "name": "stderr",
     "output_type": "stream",
     "text": [
      "24/12/01 13:54:19 WARN Utils: Your hostname, Kowshiks-MacBook-Air.local resolves to a loopback address: 127.0.0.1; using 172.20.10.105 instead (on interface en0)\n",
      "24/12/01 13:54:19 WARN Utils: Set SPARK_LOCAL_IP if you need to bind to another address\n",
      "Setting default log level to \"WARN\".\n",
      "To adjust logging level use sc.setLogLevel(newLevel). For SparkR, use setLogLevel(newLevel).\n",
      "24/12/01 13:54:19 WARN NativeCodeLoader: Unable to load native-hadoop library for your platform... using builtin-java classes where applicable\n"
     ]
    }
   ],
   "source": [
    "# Initialize Spark Session\n",
    "spark = SparkSession.builder.appName(\"Sentiment Analysis\").getOrCreate()"
   ]
  },
  {
   "cell_type": "code",
   "execution_count": 4,
   "id": "00b8dc1c",
   "metadata": {},
   "outputs": [
    {
     "name": "stderr",
     "output_type": "stream",
     "text": [
      "[Stage 1:>                                                          (0 + 8) / 8]\r"
     ]
    },
    {
     "name": "stdout",
     "output_type": "stream",
     "text": [
      "root\n",
      " |-- product_name: string (nullable = true)\n",
      " |-- product_price: string (nullable = true)\n",
      " |-- Rate: string (nullable = true)\n",
      " |-- Review: string (nullable = true)\n",
      " |-- Summary: string (nullable = true)\n",
      " |-- Sentiment: string (nullable = true)\n",
      "\n"
     ]
    },
    {
     "name": "stderr",
     "output_type": "stream",
     "text": [
      "\r\n",
      "                                                                                \r"
     ]
    }
   ],
   "source": [
    "# Load Dataset\n",
    "reviews_df = spark.read.csv(\"Dataset-SA.csv\", header=True, inferSchema=True)\n",
    "\n",
    "# Display Dataset Schema\n",
    "reviews_df.printSchema()"
   ]
  },
  {
   "cell_type": "code",
   "execution_count": 5,
   "id": "330984ed",
   "metadata": {},
   "outputs": [
    {
     "data": {
      "text/plain": [
       "[Row(product_name='Candes 12 L Room/Personal Air Cooler??????(White, Black, Elegant High Speed-Honey Comb Cooling Pad & Ice Chamber, Blower)', product_price='3999', Rate='5', Review='super!', Summary='great cooler excellent air flow and for this price its so amazing and unbelievablejust love it', Sentiment='positive'),\n",
       " Row(product_name='Candes 12 L Room/Personal Air Cooler??????(White, Black, Elegant High Speed-Honey Comb Cooling Pad & Ice Chamber, Blower)', product_price='3999', Rate='5', Review='awesome', Summary='best budget 2 fit cooler nice cooling', Sentiment='positive'),\n",
       " Row(product_name='Candes 12 L Room/Personal Air Cooler??????(White, Black, Elegant High Speed-Honey Comb Cooling Pad & Ice Chamber, Blower)', product_price='3999', Rate='3', Review='fair', Summary='the quality is good but the power of air is decent', Sentiment='positive'),\n",
       " Row(product_name='Candes 12 L Room/Personal Air Cooler??????(White, Black, Elegant High Speed-Honey Comb Cooling Pad & Ice Chamber, Blower)', product_price='3999', Rate='1', Review='useless product', Summary='very bad product its a only a fan', Sentiment='negative'),\n",
       " Row(product_name='Candes 12 L Room/Personal Air Cooler??????(White, Black, Elegant High Speed-Honey Comb Cooling Pad & Ice Chamber, Blower)', product_price='3999', Rate='3', Review='fair', Summary='ok ok product', Sentiment='neutral')]"
      ]
     },
     "execution_count": 5,
     "metadata": {},
     "output_type": "execute_result"
    }
   ],
   "source": [
    "reviews_df.head(5)"
   ]
  },
  {
   "cell_type": "code",
   "execution_count": 13,
   "id": "1fa2f04f",
   "metadata": {},
   "outputs": [],
   "source": [
    "# Text Preprocessing\n",
    "# Tokenize\n",
    "tokenizer = Tokenizer(inputCol=\"Review\", outputCol=\"words\")\n",
    "tokenized_df = tokenizer.transform(reviews_df)\n",
    "\n",
    "# Remove Stop Words\n",
    "stop_words_remover = StopWordsRemover(inputCol=\"words\", outputCol=\"filtered_words\")\n",
    "filtered_df = stop_words_remover.transform(tokenized_df)"
   ]
  },
  {
   "cell_type": "code",
   "execution_count": 14,
   "id": "ded220b9",
   "metadata": {},
   "outputs": [
    {
     "name": "stderr",
     "output_type": "stream",
     "text": [
      "                                                                                \r"
     ]
    }
   ],
   "source": [
    "# Count Vectorizer\n",
    "vectorizer = CountVectorizer(inputCol=\"filtered_words\", outputCol=\"raw_features\")\n",
    "vectorizer_model = vectorizer.fit(filtered_df)\n",
    "vectorized_df = vectorizer_model.transform(filtered_df)"
   ]
  },
  {
   "cell_type": "code",
   "execution_count": 15,
   "id": "747a6889",
   "metadata": {},
   "outputs": [
    {
     "name": "stderr",
     "output_type": "stream",
     "text": [
      "                                                                                \r"
     ]
    }
   ],
   "source": [
    "# IDF Transformation\n",
    "idf = IDF(inputCol=\"raw_features\", outputCol=\"features\")\n",
    "idf_model = idf.fit(vectorized_df)\n",
    "idf_df = idf_model.transform(vectorized_df)"
   ]
  },
  {
   "cell_type": "code",
   "execution_count": 19,
   "id": "1a48c375",
   "metadata": {},
   "outputs": [],
   "source": [
    "from pyspark.sql.functions import when, col\n",
    "\n",
    "# Map sentiment values to integers (adjust mappings as needed)\n",
    "idf_df = idf_df.withColumn(\n",
    "    \"Sentiment\",\n",
    "    when(col(\"Sentiment\") == \"positive\", 1)\n",
    "    .when(col(\"Sentiment\") == \"negative\", 0)\n",
    "    .otherwise(None)  # Handle any unexpected values\n",
    ")\n",
    "\n",
    "# Alternatively, if already numeric strings, cast directly\n",
    "# idf_df = idf_df.withColumn(\"Sentiment\", col(\"Sentiment\").cast(\"int\"))"
   ]
  },
  {
   "cell_type": "code",
   "execution_count": 23,
   "id": "d22d08d6",
   "metadata": {},
   "outputs": [
    {
     "name": "stderr",
     "output_type": "stream",
     "text": [
      "24/12/01 14:18:04 WARN InstanceBuilder: Failed to load implementation from:dev.ludovic.netlib.blas.JNIBLAS\n",
      "24/12/01 14:18:04 WARN InstanceBuilder: Failed to load implementation from:dev.ludovic.netlib.blas.VectorBLAS\n",
      "                                                                                \r"
     ]
    }
   ],
   "source": [
    "# Split Data\n",
    "train_df, test_df = idf_df.randomSplit([0.8, 0.2], seed=42)\n",
    "\n",
    "# Train Logistic Regression Model\n",
    "lr = LogisticRegression(featuresCol=\"features\", labelCol=\"Sentiment\")\n",
    "model = lr.fit(train_df)"
   ]
  },
  {
   "cell_type": "code",
   "execution_count": 25,
   "id": "5b4cd89f",
   "metadata": {},
   "outputs": [
    {
     "name": "stderr",
     "output_type": "stream",
     "text": [
      "[Stage 230:=======>                                                 (1 + 7) / 8]\r"
     ]
    },
    {
     "name": "stdout",
     "output_type": "stream",
     "text": [
      "Model Accuracy: 0.9418757914868322\n"
     ]
    },
    {
     "name": "stderr",
     "output_type": "stream",
     "text": [
      "\r\n",
      "                                                                                \r"
     ]
    }
   ],
   "source": [
    "# Evaluate Model\n",
    "test_predictions = model.transform(test_df)\n",
    "evaluator = MulticlassClassificationEvaluator(labelCol=\"Sentiment\", predictionCol=\"prediction\", metricName=\"accuracy\")\n",
    "accuracy = evaluator.evaluate(test_predictions)\n",
    "print(f\"Model Accuracy: {accuracy}\")"
   ]
  },
  {
   "cell_type": "code",
   "execution_count": 27,
   "id": "82a29de4",
   "metadata": {},
   "outputs": [
    {
     "name": "stderr",
     "output_type": "stream",
     "text": [
      "[Stage 232:==========================================>              (6 + 2) / 8]\r"
     ]
    },
    {
     "name": "stdout",
     "output_type": "stream",
     "text": [
      "+--------------------+-----------------------+\n",
      "|        product_name|average_sentiment_score|\n",
      "+--------------------+-----------------------+\n",
      "|BLUECHIP BL43Smar...|     0.9072164948453608|\n",
      "|CEAT Hitman Full ...|     0.8770053475935828|\n",
      "|Butterfly Rapid K...|      0.868421052631579|\n",
      "|ArrowMax Professi...|     0.9787234042553191|\n",
      "|7SEVEN Airtel DTH...|                    1.0|\n",
      "|SAMSUNG DW60M5042...|     0.7692307692307693|\n",
      "|Candes Florence 1...|     0.8659217877094972|\n",
      "|BAJAJ Crest Neo 1...|     0.8615819209039548|\n",
      "|D&V ENGINEERING 2...|                    1.0|\n",
      "|PUHBRHY Steel Ele...|     0.8928571428571429|\n",
      "|Hindware Ripple 9...|     0.9007352941176471|\n",
      "|Flipkart SmartBuy...|     0.8686708860759493|\n",
      "|HAVELLS convenio ...|                    0.4|\n",
      "|WONDERCHEF Nutri ...|     0.8235294117647058|\n",
      "|D&V ENGINEERING 2...|                    1.0|\n",
      "|BLUECHIP BL55Smar...|     0.9440559440559441|\n",
      "|Prestige Atlas De...|     0.6419753086419753|\n",
      "|SportSoul Cotton ...|     0.8279569892473119|\n",
      "|Atomberg Renesa 1...|     0.8014981273408239|\n",
      "|D&V ENGINEERING S...|                    0.8|\n",
      "+--------------------+-----------------------+\n",
      "only showing top 20 rows\n",
      "\n"
     ]
    },
    {
     "name": "stderr",
     "output_type": "stream",
     "text": [
      "\r\n",
      "                                                                                \r"
     ]
    }
   ],
   "source": [
    "# Sentiment Scoring\n",
    "# Predict Sentiments for All Data\n",
    "predictions = model.transform(idf_df)\n",
    "\n",
    "# Calculate Aggregate Sentiment Score per Product\n",
    "sentiment_scores = predictions.groupBy(\"product_name\").agg(avg(\"prediction\").alias(\"average_sentiment_score\"))\n",
    "sentiment_scores.show()"
   ]
  },
  {
   "cell_type": "code",
   "execution_count": 28,
   "id": "53f0e858",
   "metadata": {},
   "outputs": [
    {
     "name": "stderr",
     "output_type": "stream",
     "text": [
      "                                                                                \r"
     ]
    }
   ],
   "source": [
    "# Save Sentiment Scores to CSV\n",
    "sentiment_scores.write.csv(\"sentiment_scores.csv\", header=True)\n",
    "\n",
    "# Stop Spark Session\n",
    "spark.stop()"
   ]
  }
 ],
 "metadata": {
  "kernelspec": {
   "display_name": "Python 3",
   "language": "python",
   "name": "python3"
  },
  "language_info": {
   "codemirror_mode": {
    "name": "ipython",
    "version": 3
   },
   "file_extension": ".py",
   "mimetype": "text/x-python",
   "name": "python",
   "nbconvert_exporter": "python",
   "pygments_lexer": "ipython3",
   "version": "3.12.5"
  }
 },
 "nbformat": 4,
 "nbformat_minor": 5
}
