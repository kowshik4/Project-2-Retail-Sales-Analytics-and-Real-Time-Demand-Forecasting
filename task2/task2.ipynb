{
 "cells": [
  {
   "cell_type": "markdown",
   "metadata": {},
   "source": [
    "TASK-2"
   ]
  },
  {
   "cell_type": "code",
   "execution_count": 1,
   "metadata": {},
   "outputs": [
    {
     "name": "stderr",
     "output_type": "stream",
     "text": [
      "24/12/06 04:03:28 WARN Utils: Your hostname, codespaces-3e6bbc resolves to a loopback address: 127.0.0.1; using 10.0.2.121 instead (on interface eth0)\n",
      "24/12/06 04:03:28 WARN Utils: Set SPARK_LOCAL_IP if you need to bind to another address\n",
      "Setting default log level to \"WARN\".\n",
      "To adjust logging level use sc.setLogLevel(newLevel). For SparkR, use setLogLevel(newLevel).\n",
      "24/12/06 04:03:28 WARN NativeCodeLoader: Unable to load native-hadoop library for your platform... using builtin-java classes where applicable\n",
      "                                                                                \r"
     ]
    },
    {
     "name": "stdout",
     "output_type": "stream",
     "text": [
      "Initial dataset:\n",
      "+---------+---------+--------------------+--------+------------+---------+----------+--------------+\n",
      "|InvoiceNo|StockCode|         Description|Quantity| InvoiceDate|UnitPrice|CustomerID|       Country|\n",
      "+---------+---------+--------------------+--------+------------+---------+----------+--------------+\n",
      "|   536365|   85123A|WHITE HANGING HEA...|       6|12/1/10 8:26|     2.55|     17850|United Kingdom|\n",
      "|   536365|    71053| WHITE METAL LANTERN|       6|12/1/10 8:26|     3.39|     17850|United Kingdom|\n",
      "|   536365|   84406B|CREAM CUPID HEART...|       8|12/1/10 8:26|     2.75|     17850|United Kingdom|\n",
      "|   536365|   84029G|KNITTED UNION FLA...|       6|12/1/10 8:26|     3.39|     17850|United Kingdom|\n",
      "|   536365|   84029E|RED WOOLLY HOTTIE...|       6|12/1/10 8:26|     3.39|     17850|United Kingdom|\n",
      "|   536365|    22752|SET 7 BABUSHKA NE...|       2|12/1/10 8:26|     7.65|     17850|United Kingdom|\n",
      "|   536365|    21730|GLASS STAR FROSTE...|       6|12/1/10 8:26|     4.25|     17850|United Kingdom|\n",
      "|   536366|    22633|HAND WARMER UNION...|       6|12/1/10 8:28|     1.85|     17850|United Kingdom|\n",
      "|   536366|    22632|HAND WARMER RED P...|       6|12/1/10 8:28|     1.85|     17850|United Kingdom|\n",
      "|   536367|    84879|ASSORTED COLOUR B...|      32|12/1/10 8:34|     1.69|     13047|United Kingdom|\n",
      "+---------+---------+--------------------+--------+------------+---------+----------+--------------+\n",
      "only showing top 10 rows\n",
      "\n",
      "root\n",
      " |-- InvoiceNo: string (nullable = true)\n",
      " |-- StockCode: string (nullable = true)\n",
      " |-- Description: string (nullable = true)\n",
      " |-- Quantity: integer (nullable = true)\n",
      " |-- InvoiceDate: string (nullable = true)\n",
      " |-- UnitPrice: double (nullable = true)\n",
      " |-- CustomerID: integer (nullable = true)\n",
      " |-- Country: string (nullable = true)\n",
      "\n",
      "Calculating total sales per product per month...\n"
     ]
    },
    {
     "name": "stderr",
     "output_type": "stream",
     "text": [
      "24/12/06 04:03:40 WARN GarbageCollectionMetrics: To enable non-built-in garbage collector(s) List(G1 Concurrent GC), users should configure it(them) to spark.eventLog.gcMetrics.youngGenerationGarbageCollectors or spark.eventLog.gcMetrics.oldGenerationGarbageCollectors\n",
      "                                                                                \r"
     ]
    },
    {
     "name": "stdout",
     "output_type": "stream",
     "text": [
      "+----+-----+---------+--------------------+-----------------+---------------------+\n",
      "|Year|Month|StockCode|         Description|TotalQuantitySold|TotalRevenueGenerated|\n",
      "+----+-----+---------+--------------------+-----------------+---------------------+\n",
      "|NULL| NULL|    10002|INFLATABLE POLITI...|              860|    759.8900000000002|\n",
      "|NULL| NULL|    10002|                NULL|              177|                  0.0|\n",
      "|NULL| NULL|    10080|GROOVY CACTUS INF...|              303|   119.08999999999999|\n",
      "|NULL| NULL|    10080|                NULL|              170|                  0.0|\n",
      "|NULL| NULL|    10080|               check|               22|                  0.0|\n",
      "|NULL| NULL|    10120|        DOGGY RUBBER|              193|   40.530000000000015|\n",
      "|NULL| NULL|   10123C|                NULL|              -18|                  0.0|\n",
      "|NULL| NULL|   10123C|HEARTS WRAPPING T...|                5|                 3.25|\n",
      "|NULL| NULL|   10123G|                NULL|              -38|                  0.0|\n",
      "|NULL| NULL|   10124A|SPOTS ON RED BOOK...|               16|                 6.72|\n",
      "+----+-----+---------+--------------------+-----------------+---------------------+\n",
      "only showing top 10 rows\n",
      "\n",
      "Calculating average revenue per customer segment...\n"
     ]
    },
    {
     "name": "stderr",
     "output_type": "stream",
     "text": [
      "                                                                                \r"
     ]
    },
    {
     "name": "stdout",
     "output_type": "stream",
     "text": [
      "+------------------+--------------------+\n",
      "|           Country|AvgRevenuePerCountry|\n",
      "+------------------+--------------------+\n",
      "|            Sweden|   79.21192640692637|\n",
      "|         Singapore|    39.8270305676856|\n",
      "|           Germany|   23.34894260136918|\n",
      "|            France|  23.069288301975035|\n",
      "|            Greece|   32.26383561643835|\n",
      "|European Community|   21.17622950819672|\n",
      "|           Belgium|   19.77330111164815|\n",
      "|           Finland|  32.124805755395684|\n",
      "|             Malta|   19.72811023622048|\n",
      "|       Unspecified|  10.649753363228692|\n",
      "|             Italy|  21.034259028642584|\n",
      "|              EIRE|   32.12259882869682|\n",
      "|         Lithuania|   47.45885714285714|\n",
      "|            Norway|   32.37887661141805|\n",
      "|             Spain|  21.624390051322607|\n",
      "|           Denmark|  48.247146529562954|\n",
      "|         Hong Kong|    35.1286111111111|\n",
      "|           Iceland|  23.681318681318682|\n",
      "|            Israel|  26.625656565656566|\n",
      "|   Channel Islands|  26.499063324538245|\n",
      "+------------------+--------------------+\n",
      "only showing top 20 rows\n",
      "\n",
      "Analyzing seasonal patterns for top-selling products...\n"
     ]
    },
    {
     "name": "stderr",
     "output_type": "stream",
     "text": [
      "                                                                                \r"
     ]
    },
    {
     "name": "stdout",
     "output_type": "stream",
     "text": [
      "+---------+--------------------+----------+\n",
      "|StockCode|         Description|TotalSales|\n",
      "+---------+--------------------+----------+\n",
      "|    84077|WORLD WAR 2 GLIDE...|     53847|\n",
      "|   85099B|JUMBO BAG RED RET...|     47363|\n",
      "|    84879|ASSORTED COLOUR B...|     36381|\n",
      "|    22197|      POPCORN HOLDER|     36334|\n",
      "|    21212|PACK OF 72 RETROS...|     36039|\n",
      "+---------+--------------------+----------+\n",
      "\n"
     ]
    },
    {
     "name": "stderr",
     "output_type": "stream",
     "text": [
      "                                                                                \r"
     ]
    },
    {
     "name": "stdout",
     "output_type": "stream",
     "text": [
      "+---------+--------------------+-----+------------+\n",
      "|StockCode|         Description|Month|MonthlySales|\n",
      "+---------+--------------------+-----+------------+\n",
      "|    21212|PACK OF 72 RETROS...| NULL|       36039|\n",
      "|    22197|      POPCORN HOLDER| NULL|       36334|\n",
      "|    84077|WORLD WAR 2 GLIDE...| NULL|       53847|\n",
      "|    84879|ASSORTED COLOUR B...| NULL|       36381|\n",
      "|   85099B|JUMBO BAG RED RET...| NULL|       47363|\n",
      "+---------+--------------------+-----+------------+\n",
      "\n",
      "Feature engineering...\n"
     ]
    },
    {
     "name": "stderr",
     "output_type": "stream",
     "text": [
      "                                                                                \r"
     ]
    },
    {
     "name": "stdout",
     "output_type": "stream",
     "text": [
      "+----------+---------------------+\n",
      "|CustomerID|CustomerLifetimeValue|\n",
      "+----------+---------------------+\n",
      "|     17420|    598.8300000000002|\n",
      "|     16861|               151.65|\n",
      "|     16503|   1421.4300000000003|\n",
      "|     15727|    5178.959999999999|\n",
      "|     17389|             31300.08|\n",
      "|     15447|               155.17|\n",
      "|     14450|               483.25|\n",
      "|     13623|               672.44|\n",
      "|     13285|   2709.1199999999994|\n",
      "|     16339|   109.95000000000002|\n",
      "+----------+---------------------+\n",
      "only showing top 10 rows\n",
      "\n"
     ]
    },
    {
     "name": "stderr",
     "output_type": "stream",
     "text": [
      "                                                                                \r"
     ]
    },
    {
     "name": "stdout",
     "output_type": "stream",
     "text": [
      "+---------+--------------------+--------------+------------------+----------------------+\n",
      "|StockCode|         Description|TotalUnitsSold|      TotalRevenue|ProductPopularityScore|\n",
      "+---------+--------------------+--------------+------------------+----------------------+\n",
      "|   84279P|CHERRY BLOSSOM  D...|           364|1516.9599999999998|             552173.44|\n",
      "|    85015|SET OF 12  VINTAG...|          2182|1719.8400000000006|    3752690.8800000013|\n",
      "|    21249|WOODLAND  HEIGHT ...|           724| 2160.000000000001|    1563840.0000000007|\n",
      "|    21002|ROSE DU SUD DRAWS...|           125| 428.6600000000002|     53582.50000000002|\n",
      "|    84987|SET OF 36 TEATIME...|          3038| 4452.320000000005|  1.3526148160000015E7|\n",
      "|    20671|BLUE TEATIME PRIN...|            10|              12.5|                 125.0|\n",
      "|    22690|DOORMAT HOME SWEE...|          1617| 9911.299999999996|  1.6026572099999992E7|\n",
      "|    22708|     WRAP DOLLY GIRL|          2775|            1149.5|             3189862.5|\n",
      "|   90184A|AMBER CHUNKY BEAD...|            13|117.73000000000003|    1530.4900000000005|\n",
      "|    21285|RETROSPOT CANDLE ...|           341|398.28000000000003|             135813.48|\n",
      "+---------+--------------------+--------------+------------------+----------------------+\n",
      "only showing top 10 rows\n",
      "\n"
     ]
    },
    {
     "name": "stderr",
     "output_type": "stream",
     "text": [
      "                                                                                \r"
     ]
    },
    {
     "name": "stdout",
     "output_type": "stream",
     "text": [
      "+-----+-----------------+\n",
      "|Month|TotalMonthlySales|\n",
      "+-----+-----------------+\n",
      "| NULL|          5176450|\n",
      "+-----+-----------------+\n",
      "\n"
     ]
    },
    {
     "name": "stderr",
     "output_type": "stream",
     "text": [
      "[Stage 78:=============================>                            (1 + 1) / 2]\r"
     ]
    },
    {
     "name": "stdout",
     "output_type": "stream",
     "text": [
      "Results saved to output_sales_aggregation\n"
     ]
    },
    {
     "name": "stderr",
     "output_type": "stream",
     "text": [
      "                                                                                \r"
     ]
    }
   ],
   "source": [
    "from pyspark.sql import SparkSession\n",
    "from pyspark.sql.functions import col, sum, avg, month, year, count, expr\n",
    "\n",
    "# Initialize Spark session\n",
    "spark = SparkSession.builder.appName(\"Sales Aggregation and Feature Engineering\").getOrCreate()\n",
    "\n",
    "# Load the sales dataset\n",
    "sales_df = spark.read.csv(\"/workspaces/Project-2-Retail-Sales-Analytics-and-Real-Time-Demand-Forecasting/task2/Online Retail - Online Retail (1).csv\", header=True, inferSchema=True)\n",
    "\n",
    "# Inspect dataset\n",
    "print(\"Initial dataset:\")\n",
    "sales_df.show(10)\n",
    "sales_df.printSchema()\n",
    "\n",
    "# Ensure `InvoiceDate` is in proper datetime format\n",
    "sales_df = sales_df.withColumn(\"InvoiceDate\", col(\"InvoiceDate\").cast(\"timestamp\"))\n",
    "\n",
    "# Calculate revenue for each transaction\n",
    "sales_df = sales_df.withColumn(\"RevenueGenerated\", col(\"Quantity\") * col(\"UnitPrice\"))\n",
    "\n",
    "# Extract month and year for analysis\n",
    "sales_df = sales_df.withColumn(\"Year\", year(col(\"InvoiceDate\"))).withColumn(\"Month\", month(col(\"InvoiceDate\")))\n",
    "\n",
    "# Total sales per product per month\n",
    "print(\"Calculating total sales per product per month...\")\n",
    "total_sales_per_product = sales_df.groupBy(\"Year\", \"Month\", \"StockCode\", \"Description\") \\\n",
    "    .agg(\n",
    "        sum(\"Quantity\").alias(\"TotalQuantitySold\"),\n",
    "        sum(\"RevenueGenerated\").alias(\"TotalRevenueGenerated\")\n",
    "    ) \\\n",
    "    .orderBy(\"Year\", \"Month\", \"StockCode\")\n",
    "\n",
    "total_sales_per_product.show(10)\n",
    "\n",
    "# Average revenue per customer segment (Country used as proxy for customer segments)\n",
    "print(\"Calculating average revenue per customer segment...\")\n",
    "avg_revenue_per_country = sales_df.groupBy(\"Country\") \\\n",
    "    .agg(avg(\"RevenueGenerated\").alias(\"AvgRevenuePerCountry\"))\n",
    "\n",
    "avg_revenue_per_country.show()\n",
    "\n",
    "# Seasonal patterns for top-selling products\n",
    "print(\"Analyzing seasonal patterns for top-selling products...\")\n",
    "# Identify top-selling products by total sales\n",
    "top_products = total_sales_per_product.groupBy(\"StockCode\", \"Description\") \\\n",
    "    .agg(sum(\"TotalQuantitySold\").alias(\"TotalSales\")) \\\n",
    "    .orderBy(col(\"TotalSales\").desc()) \\\n",
    "    .limit(5)  # Top 5 products\n",
    "\n",
    "top_products.show()\n",
    "\n",
    "# Seasonal trends for top products\n",
    "seasonal_trends = total_sales_per_product.join(top_products, [\"StockCode\", \"Description\"]) \\\n",
    "    .groupBy(\"StockCode\", \"Description\", \"Month\") \\\n",
    "    .agg(sum(\"TotalQuantitySold\").alias(\"MonthlySales\")) \\\n",
    "    .orderBy(\"StockCode\", \"Month\")\n",
    "\n",
    "seasonal_trends.show()\n",
    "\n",
    "# Feature Engineering\n",
    "print(\"Feature engineering...\")\n",
    "\n",
    "# Customer Lifetime Value (CLV): Total revenue generated by each customer\n",
    "clv = sales_df.groupBy(\"CustomerID\") \\\n",
    "    .agg(sum(\"RevenueGenerated\").alias(\"CustomerLifetimeValue\"))\n",
    "\n",
    "clv.show(10)\n",
    "\n",
    "# Product Popularity Score: Weighted by total sales and revenue\n",
    "product_popularity = sales_df.groupBy(\"StockCode\", \"Description\") \\\n",
    "    .agg(\n",
    "        sum(\"Quantity\").alias(\"TotalUnitsSold\"),\n",
    "        sum(\"RevenueGenerated\").alias(\"TotalRevenue\")\n",
    "    ) \\\n",
    "    .withColumn(\"ProductPopularityScore\", col(\"TotalUnitsSold\") * col(\"TotalRevenue\"))\n",
    "\n",
    "product_popularity.show(10)\n",
    "\n",
    "# Seasonal Trends: Sales aggregated by month across all products\n",
    "seasonal_trends_all = sales_df.groupBy(\"Month\") \\\n",
    "    .agg(sum(\"Quantity\").alias(\"TotalMonthlySales\")) \\\n",
    "    .orderBy(\"Month\")\n",
    "\n",
    "seasonal_trends_all.show()\n",
    "\n",
    "# Save results for further analysis\n",
    "output_path = \"output_sales_aggregation\"\n",
    "total_sales_per_product.write.csv(f\"{output_path}/total_sales_per_product\", header=True, mode=\"overwrite\")\n",
    "avg_revenue_per_country.write.csv(f\"{output_path}/avg_revenue_per_country\", header=True, mode=\"overwrite\")\n",
    "top_products.write.csv(f\"{output_path}/top_products\", header=True, mode=\"overwrite\")\n",
    "seasonal_trends.write.csv(f\"{output_path}/seasonal_trends\", header=True, mode=\"overwrite\")\n",
    "clv.write.csv(f\"{output_path}/customer_lifetime_value\", header=True, mode=\"overwrite\")\n",
    "product_popularity.write.csv(f\"{output_path}/product_popularity\", header=True, mode=\"overwrite\")\n",
    "seasonal_trends_all.write.csv(f\"{output_path}/seasonal_trends_all\", header=True, mode=\"overwrite\")\n",
    "\n",
    "print(f\"Results saved to {output_path}\")\n"
   ]
  }
 ],
 "metadata": {
  "kernelspec": {
   "display_name": "Python 3 (ipykernel)",
   "language": "python",
   "name": "python3"
  },
  "language_info": {
   "codemirror_mode": {
    "name": "ipython",
    "version": 3
   },
   "file_extension": ".py",
   "mimetype": "text/x-python",
   "name": "python",
   "nbconvert_exporter": "python",
   "pygments_lexer": "ipython3",
   "version": "3.12.1"
  }
 },
 "nbformat": 4,
 "nbformat_minor": 2
}
